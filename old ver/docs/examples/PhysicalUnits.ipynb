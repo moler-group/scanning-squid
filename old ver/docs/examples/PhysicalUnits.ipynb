{
 "cells": [
  {
   "cell_type": "markdown",
   "metadata": {},
   "source": [
    "# Physical Units"
   ]
  },
  {
   "cell_type": "markdown",
   "metadata": {},
   "source": [
    "`scanning-squid` knows about physical units thanks to [pint](http://pint.readthedocs.io/en/latest/), a package designed to operate on and manipulate physical quantities.\n",
    "\n",
    "`pint` is based around the `UnitRegistry`, an object that knows a set of physical units and the relationships between them."
   ]
  },
  {
   "cell_type": "code",
   "execution_count": 1,
   "metadata": {},
   "outputs": [],
   "source": [
    "from pint import UnitRegistry\n",
    "ureg = UnitRegistry()"
   ]
  },
  {
   "cell_type": "markdown",
   "metadata": {},
   "source": [
    "We can use the our instance of `UnitRegistry` (here called `ureg`) to convert a dimensionless number like `2` into a dimensionful quantity like 2 $\\mu$V, or parse a string like `'2 uV'` into a `Quantity` with a magnitude of `2` and unit of `microvolt`."
   ]
  },
  {
   "cell_type": "code",
   "execution_count": 2,
   "metadata": {},
   "outputs": [
    {
     "name": "stdout",
     "output_type": "stream",
     "text": [
      "2 microvolt\n"
     ]
    }
   ],
   "source": [
    "print(2 * ureg('uV'))"
   ]
  },
  {
   "cell_type": "code",
   "execution_count": 3,
   "metadata": {},
   "outputs": [
    {
     "name": "stdout",
     "output_type": "stream",
     "text": [
      "2 microvolt\n"
     ]
    }
   ],
   "source": [
    "v = ureg.Quantity('2 uV')\n",
    "print(v)"
   ]
  },
  {
   "cell_type": "markdown",
   "metadata": {},
   "source": [
    "`ureg` knows how units are related to one another:"
   ]
  },
  {
   "cell_type": "code",
   "execution_count": 4,
   "metadata": {},
   "outputs": [
    {
     "name": "stdout",
     "output_type": "stream",
     "text": [
      "0.002 millivolt\n"
     ]
    }
   ],
   "source": [
    "print(v.to('mV'))"
   ]
  },
  {
   "cell_type": "code",
   "execution_count": 5,
   "metadata": {},
   "outputs": [
    {
     "name": "stdout",
     "output_type": "stream",
     "text": [
      "483.6 megahertz / microvolt\n",
      "967.2 megahertz\n",
      "0.9672000000000001 gigahertz\n",
      "483.6 megahertz * nanoampere * ohm / microvolt\n",
      "483.6 megahertz\n"
     ]
    }
   ],
   "source": [
    "fJ = ureg.Quantity('483.6 MHz / uV') # a.c. Josephson effect\n",
    "print(fJ)\n",
    "print(fJ * v)\n",
    "print((fJ * v).to('GHz'))\n",
    "print(fJ * ureg.Quantity('1 nA') * ureg.Quantity('1 ohm'))\n",
    "print((fJ * ureg.Quantity('1 uA') * ureg.Quantity('1 ohm')).to('MHz'))"
   ]
  },
  {
   "cell_type": "markdown",
   "metadata": {},
   "source": [
    "`ureg` doesn't by default know what a $\\Phi_0$ is, but we can teach it:"
   ]
  },
  {
   "cell_type": "code",
   "execution_count": 6,
   "metadata": {},
   "outputs": [],
   "source": [
    "with open('squid_units.txt', 'w') as f:\n",
    "    f.write('Phi0 = 2.067833831e-15 * Wb\\n')\n",
    "ureg.load_definitions('./squid_units.txt')"
   ]
  },
  {
   "cell_type": "code",
   "execution_count": 7,
   "metadata": {},
   "outputs": [],
   "source": [
    "phi0 = ureg('Phi0')"
   ]
  },
  {
   "cell_type": "code",
   "execution_count": 8,
   "metadata": {},
   "outputs": [
    {
     "name": "stdout",
     "output_type": "stream",
     "text": [
      "1 Phi0\n",
      "20.67833831 gauss * micrometer ** 2\n",
      "0.5109708237305385 acre * attotesla\n"
     ]
    }
   ],
   "source": [
    "print(phi0)\n",
    "print(phi0.to('gauss * um**2'))\n",
    "print(phi0.to('aT * acre'))"
   ]
  },
  {
   "cell_type": "code",
   "execution_count": null,
   "metadata": {},
   "outputs": [],
   "source": []
  }
 ],
 "metadata": {
  "kernelspec": {
   "display_name": "Python 3",
   "language": "python",
   "name": "python3"
  },
  "language_info": {
   "codemirror_mode": {
    "name": "ipython",
    "version": 3
   },
   "file_extension": ".py",
   "mimetype": "text/x-python",
   "name": "python",
   "nbconvert_exporter": "python",
   "pygments_lexer": "ipython3",
   "version": "3.6.5"
  }
 },
 "nbformat": 4,
 "nbformat_minor": 2
}
